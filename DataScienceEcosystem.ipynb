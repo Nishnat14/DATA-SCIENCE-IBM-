{
 "cells": [
  {
   "cell_type": "markdown",
   "id": "80139b70-43ce-4574-b19d-b90a33f9135e",
   "metadata": {},
   "source": [
    "# Data Science Tools and Ecosystem"
   ]
  },
  {
   "cell_type": "markdown",
   "id": "ca56d1e0-40eb-4a19-a983-908963fd31ae",
   "metadata": {},
   "source": [
    "In this notebook, Data Science Tools and Ecosystem are summarized."
   ]
  },
  {
   "cell_type": "markdown",
   "id": "4f19c99b-92cc-4600-8735-e4b81f04cc76",
   "metadata": {},
   "source": [
    "Some of the popular languages that Data Scientists use are:\n",
    "1.python\n",
    "2.R\n",
    "3.SQL\n"
   ]
  },
  {
   "cell_type": "markdown",
   "id": "1f376ac4-fdb8-4d67-8400-bf2ec728ddb0",
   "metadata": {},
   "source": [
    "Some of the commonly used libraries used by Data Scientists include:\n",
    "Numpy\n",
    "Tenserflow\n",
    "keras"
   ]
  },
  {
   "cell_type": "markdown",
   "id": "7b5f8b8f-0d65-48bb-b5b6-2767e2010bc1",
   "metadata": {},
   "source": [
    "| Data Science Tools |\n",
    "|-------------------|\n",
    "| Jupyter Notebooks |\n",
    "| RStudio           |\n",
    "| Spyder            |"
   ]
  },
  {
   "cell_type": "markdown",
   "id": "2c7e3f07-8b3f-423b-8082-00814be4589f",
   "metadata": {},
   "source": [
    "### Below are a few examples of evaluating arithmetic expressions in Python."
   ]
  },
  {
   "cell_type": "code",
   "execution_count": 1,
   "id": "03d708ac-4419-4e19-bd71-fa0db1be3890",
   "metadata": {},
   "outputs": [
    {
     "data": {
      "text/plain": [
       "17"
      ]
     },
     "execution_count": 1,
     "metadata": {},
     "output_type": "execute_result"
    }
   ],
   "source": [
    "(3*4)+5\n",
    "#This a simple arithmetic expression to mutiply then add integers"
   ]
  },
  {
   "cell_type": "code",
   "execution_count": 2,
   "id": "0af4ead6-9b16-49bb-a034-be4988e442a1",
   "metadata": {},
   "outputs": [
    {
     "data": {
      "text/plain": [
       "3.3333333333333335"
      ]
     },
     "execution_count": 2,
     "metadata": {},
     "output_type": "execute_result"
    }
   ],
   "source": [
    "200/60\n",
    "#This will convert 200 minutes to hours by diving by 60"
   ]
  },
  {
   "cell_type": "markdown",
   "id": "2c0677b8-e6fd-4c98-b7b4-e85a365a041c",
   "metadata": {},
   "source": [
    "**Objectives:**\n",
    "\n",
    "- List popular languages for Data Science.\n",
    "- Introduce common programming environments for Data Science.\n",
    "- Provide an overview of Data Science tools and their ecosystem.\n",
    "- Discuss the importance of Python, R, and SQL in Data Science."
   ]
  },
  {
   "cell_type": "markdown",
   "id": "a22b3189-45ff-4911-8de1-d0ec32fb35a4",
   "metadata": {},
   "source": [
    "## Author\n",
    "\n",
    "Nishant singh"
   ]
  },
  {
   "cell_type": "code",
   "execution_count": null,
   "id": "eb77340e-eb66-4e28-ba73-53ebbfeef77f",
   "metadata": {},
   "outputs": [],
   "source": []
  }
 ],
 "metadata": {
  "kernelspec": {
   "display_name": "Python 3 (ipykernel)",
   "language": "python",
   "name": "python3"
  },
  "language_info": {
   "codemirror_mode": {
    "name": "ipython",
    "version": 3
   },
   "file_extension": ".py",
   "mimetype": "text/x-python",
   "name": "python",
   "nbconvert_exporter": "python",
   "pygments_lexer": "ipython3",
   "version": "3.11.4"
  }
 },
 "nbformat": 4,
 "nbformat_minor": 5
}
